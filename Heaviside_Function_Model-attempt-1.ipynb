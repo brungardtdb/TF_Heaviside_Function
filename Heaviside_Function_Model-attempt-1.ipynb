{
  "nbformat": 4,
  "nbformat_minor": 0,
  "metadata": {
    "colab": {
      "name": "Heaviside_Function_Model.ipynb",
      "version": "0.3.2",
      "provenance": [],
      "collapsed_sections": [],
      "include_colab_link": true
    },
    "kernelspec": {
      "name": "python3",
      "display_name": "Python 3"
    }
  },
  "cells": [
    {
      "cell_type": "markdown",
      "metadata": {
        "id": "view-in-github",
        "colab_type": "text"
      },
      "source": [
        "<a href=\"https://colab.research.google.com/github/brungardtdb/TF_Heaviside_Function/blob/master/Heaviside_Function_Model-attempt-1.ipynb\" target=\"_parent\"><img src=\"https://colab.research.google.com/assets/colab-badge.svg\" alt=\"Open In Colab\"/></a>"
      ]
    },
    {
      "metadata": {
        "id": "gKAE1tOtpvZf",
        "colab_type": "code",
        "colab": {}
      },
      "cell_type": "code",
      "source": [
        "''' this program is my attempt at training a deep learning model using\n",
        "tensorflow 2.0 to mimic the Heaviside function.\n",
        "\n",
        "H[n] = { 0, n < 0\n",
        "         1, n >= 1}\n",
        "'''\n",
        "import tensorflow as tf\n",
        "tf.logging.set_verbosity(tf.logging.ERROR)\n",
        "\n",
        "import numpy as np"
      ],
      "execution_count": 0,
      "outputs": []
    },
    {
      "metadata": {
        "id": "5GZNBZ1wsYHL",
        "colab_type": "code",
        "colab": {
          "base_uri": "https://localhost:8080/",
          "height": 187
        },
        "outputId": "e4511bb6-03f9-429d-f4a9-7f87241b691c"
      },
      "cell_type": "code",
      "source": [
        "# array inputs for model\n",
        "hSideInput = np.array([-1000.00,-60.2,20.75,-3.0,2.0,0.0,1.6,-5.1,60.5, 1000], dtype = float)\n",
        "hSideOutput = np.array([0,0,1,0,1,1,1,0,1,1], dtype = int)\n",
        "\n",
        "# loop through values in arrays matching input with output\n",
        "for i,c in enumerate(hSideInput):\n",
        "  print(\"{} input = {} output in Heaviside Function\".format(c, hSideOutput[i]))"
      ],
      "execution_count": 205,
      "outputs": [
        {
          "output_type": "stream",
          "text": [
            "-1000.0 input = 0 output in Heaviside Function\n",
            "-60.2 input = 0 output in Heaviside Function\n",
            "20.75 input = 1 output in Heaviside Function\n",
            "-3.0 input = 0 output in Heaviside Function\n",
            "2.0 input = 1 output in Heaviside Function\n",
            "0.0 input = 1 output in Heaviside Function\n",
            "1.6 input = 1 output in Heaviside Function\n",
            "-5.1 input = 0 output in Heaviside Function\n",
            "60.5 input = 1 output in Heaviside Function\n",
            "1000.0 input = 1 output in Heaviside Function\n"
          ],
          "name": "stdout"
        }
      ]
    },
    {
      "metadata": {
        "id": "4QEE2MyeuG_s",
        "colab_type": "code",
        "colab": {}
      },
      "cell_type": "code",
      "source": [
        "# create model\n",
        "heavisideModel = tf.keras.Sequential([tf.keras.layers.Dense(units=1, input_shape=[1])])"
      ],
      "execution_count": 0,
      "outputs": []
    },
    {
      "metadata": {
        "id": "LzmPfpXEuqLe",
        "colab_type": "code",
        "colab": {}
      },
      "cell_type": "code",
      "source": [
        "# compile model\n",
        "heavisideModel.compile(loss='mean_squared_error', optimizer = tf.keras.optimizers.Adam(0.01))\n",
        "# Note: using a loss optimizer of 0.1 did not effect the loss magnitude at an acceptable level, 0.01 seemed to work."
      ],
      "execution_count": 0,
      "outputs": []
    },
    {
      "metadata": {
        "id": "HpZYs9W4uzyi",
        "colab_type": "code",
        "colab": {
          "base_uri": "https://localhost:8080/",
          "height": 34
        },
        "outputId": "9dc96fe0-6b0b-481b-80e1-9a0566ece29d"
      },
      "cell_type": "code",
      "source": [
        "# fit model\n",
        "modelHistory = heavisideModel.fit(hSideInput, hSideOutput, epochs=700,verbose=False)\n",
        "print(\"Finished training the model\")"
      ],
      "execution_count": 208,
      "outputs": [
        {
          "output_type": "stream",
          "text": [
            "Finished training the model\n"
          ],
          "name": "stdout"
        }
      ]
    },
    {
      "metadata": {
        "id": "ArP6iAg_u-Jq",
        "colab_type": "code",
        "colab": {
          "base_uri": "https://localhost:8080/",
          "height": 378
        },
        "outputId": "4e54ca94-76bc-4483-c47d-47bfa3729115"
      },
      "cell_type": "code",
      "source": [
        "# plot loss rate over number of Epochs\n",
        "import matplotlib.pyplot as plt\n",
        "\n",
        "plt.xlabel(\"Epoch Number\")\n",
        "plt.ylabel(\"Loss Magnitude\")\n",
        "plt.plot(modelHistory.history['loss'])"
      ],
      "execution_count": 209,
      "outputs": [
        {
          "output_type": "execute_result",
          "data": {
            "text/plain": [
              "[<matplotlib.lines.Line2D at 0x7ff0662c0470>]"
            ]
          },
          "metadata": {
            "tags": []
          },
          "execution_count": 209
        },
        {
          "output_type": "display_data",
          "data": {
            "image/png": "[encoded data removed]",
            "text/plain": [
              "<Figure size 576x396 with 1 Axes>"
            ]
          },
          "metadata": {
            "tags": []
          }
        }
      ]
    },
    {
      "metadata": {
        "id": "Vyutwa02vWTm",
        "colab_type": "code",
        "colab": {
          "base_uri": "https://localhost:8080/",
          "height": 34
        },
        "outputId": "3f6c088a-af3f-48ee-9dcf-dd1103178305"
      },
      "cell_type": "code",
      "source": [
        "print(heavisideModel.predict([100.00]))\n",
        "\n",
        "# model predicted 0.65 when it should have been 1, not terribly accurate"
      ],
      "execution_count": 210,
      "outputs": [
        {
          "output_type": "stream",
          "text": [
            "[[0.6529426]]\n"
          ],
          "name": "stdout"
        }
      ]
    },
    {
      "metadata": {
        "id": "x9qB4_Ufv-mO",
        "colab_type": "code",
        "colab": {}
      },
      "cell_type": "code",
      "source": [
        "# another attempt using more layers\n",
        "\n",
        "firstlayer = tf.keras.layers.Dense(units=6, input_shape=[1])\n",
        "secondlayer = tf.keras.layers.Dense(units=6)\n",
        "thirdlayer = tf.keras.layers.Dense(units=1)"
      ],
      "execution_count": 0,
      "outputs": []
    },
    {
      "metadata": {
        "id": "05SccJTTyDss",
        "colab_type": "code",
        "colab": {}
      },
      "cell_type": "code",
      "source": [
        "# create model with 3 layers\n",
        "heavisideModel = tf.keras.Sequential([firstlayer,secondlayer,thirdlayer])"
      ],
      "execution_count": 0,
      "outputs": []
    },
    {
      "metadata": {
        "id": "_ls1lL6GySGU",
        "colab_type": "code",
        "colab": {}
      },
      "cell_type": "code",
      "source": [
        "# compile model\n",
        "heavisideModel.compile(loss='mean_squared_error', optimizer = tf.keras.optimizers.Adam(0.01))"
      ],
      "execution_count": 0,
      "outputs": []
    },
    {
      "metadata": {
        "id": "HB6kv-ntyb4I",
        "colab_type": "code",
        "colab": {
          "base_uri": "https://localhost:8080/",
          "height": 34
        },
        "outputId": "a189f561-3b30-4692-981e-a934df2a5844"
      },
      "cell_type": "code",
      "source": [
        "# fit model\n",
        "modelHistory = heavisideModel.fit(hSideInput, hSideOutput, epochs=700,verbose=False)\n",
        "print(\"Finished training the model\")"
      ],
      "execution_count": 214,
      "outputs": [
        {
          "output_type": "stream",
          "text": [
            "Finished training the model\n"
          ],
          "name": "stdout"
        }
      ]
    },
    {
      "metadata": {
        "id": "H1wHC_3aykPS",
        "colab_type": "code",
        "colab": {
          "base_uri": "https://localhost:8080/",
          "height": 378
        },
        "outputId": "88196ac5-01b7-4d05-f34d-d69effe64519"
      },
      "cell_type": "code",
      "source": [
        "# plot loss rate over number of Epochs\n",
        "import matplotlib.pyplot as plt\n",
        "\n",
        "plt.xlabel(\"Epoch Number\")\n",
        "plt.ylabel(\"Loss Magnitude\")\n",
        "plt.plot(modelHistory.history['loss'])"
      ],
      "execution_count": 215,
      "outputs": [
        {
          "output_type": "execute_result",
          "data": {
            "text/plain": [
              "[<matplotlib.lines.Line2D at 0x7ff065d63710>]"
            ]
          },
          "metadata": {
            "tags": []
          },
          "execution_count": 215
        },
        {
          "output_type": "display_data",
          "data": {
            "image/png": "[encoded data removed]",
            "text/plain": [
              "<Figure size 576x396 with 1 Axes>"
            ]
          },
          "metadata": {
            "tags": []
          }
        }
      ]
    },
    {
      "metadata": {
        "id": "bANAdxY2yn3P",
        "colab_type": "code",
        "colab": {
          "base_uri": "https://localhost:8080/",
          "height": 136
        },
        "outputId": "bb6db72a-dec5-40ce-9d14-3dbb96a5022f"
      },
      "cell_type": "code",
      "source": [
        "# predict value using model\n",
        "print(heavisideModel.predict([100.00]))\n",
        "print(heavisideModel.predict([-2000.00]))\n",
        "print(heavisideModel.predict([50.00]))\n",
        "print(heavisideModel.predict([-2]))\n",
        "print(heavisideModel.predict([-1]))\n",
        "print(heavisideModel.predict([0]))\n",
        "print(heavisideModel.predict([2]))"
      ],
      "execution_count": 216,
      "outputs": [
        {
          "output_type": "stream",
          "text": [
            "[[0.6526615]]\n",
            "[[-0.47162297]]\n",
            "[[0.6258871]]\n",
            "[[0.5980441]]\n",
            "[[0.5985796]]\n",
            "[[0.5991151]]\n",
            "[[0.6001858]]\n"
          ],
          "name": "stdout"
        }
      ]
    },
    {
      "metadata": {
        "id": "sI11tjAgyvfO",
        "colab_type": "code",
        "colab": {}
      },
      "cell_type": "code",
      "source": [
        ""
      ],
      "execution_count": 0,
      "outputs": []
    }
  ]
}